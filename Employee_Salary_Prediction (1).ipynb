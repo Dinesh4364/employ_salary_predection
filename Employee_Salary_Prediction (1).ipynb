{
  "cells": [
    {
      "cell_type": "code",
      "execution_count": 39,
      "metadata": {
        "id": "vOb062aP-ns6"
      },
      "outputs": [],
      "source": [
        "#Employee salary prediction using a csv file called adult\n",
        "#loading libraries\n",
        "import pandas as pd"
      ]
    },
    {
      "cell_type": "code",
      "execution_count": 40,
      "metadata": {
        "id": "9KjLOvEF_y7r"
      },
      "outputs": [],
      "source": [
        "#loading dataset\n",
        "data = pd.read_csv('adult.csv')\n",
        "df=pd.DataFrame(data)\n",
        "# Keep the original data in 'data' and use 'df' for modifications"
      ]
    },
    {
      "cell_type": "code",
      "execution_count": 41,
      "metadata": {
        "colab": {
          "base_uri": "https://localhost:8080/"
        },
        "id": "ZrMGtwhV8VbO",
        "outputId": "0249c60f-b184-4a3c-d19b-34404a0701ea"
      },
      "outputs": [
        {
          "name": "stdout",
          "output_type": "stream",
          "text": [
            "<class 'pandas.core.frame.DataFrame'>\n",
            "RangeIndex: 48842 entries, 0 to 48841\n",
            "Data columns (total 15 columns):\n",
            " #   Column           Non-Null Count  Dtype \n",
            "---  ------           --------------  ----- \n",
            " 0   age              48842 non-null  int64 \n",
            " 1   workclass        48842 non-null  object\n",
            " 2   fnlwgt           48842 non-null  int64 \n",
            " 3   education        48842 non-null  object\n",
            " 4   educational-num  48842 non-null  int64 \n",
            " 5   marital-status   48842 non-null  object\n",
            " 6   occupation       48842 non-null  object\n",
            " 7   relationship     48842 non-null  object\n",
            " 8   race             48842 non-null  object\n",
            " 9   gender           48842 non-null  object\n",
            " 10  capital-gain     48842 non-null  int64 \n",
            " 11  capital-loss     48842 non-null  int64 \n",
            " 12  hours-per-week   48842 non-null  int64 \n",
            " 13  native-country   48842 non-null  object\n",
            " 14  income           48842 non-null  object\n",
            "dtypes: int64(6), object(9)\n",
            "memory usage: 5.6+ MB\n"
          ]
        }
      ],
      "source": [
        "df.info()"
      ]
    },
    {
      "cell_type": "code",
      "execution_count": 42,
      "metadata": {
        "colab": {
          "base_uri": "https://localhost:8080/"
        },
        "id": "b-Zbmbg48aGF",
        "outputId": "28d3f282-4562-475d-b694-61ca02df891d"
      },
      "outputs": [
        {
          "name": "stdout",
          "output_type": "stream",
          "text": [
            "workclass\n",
            "Private             33906\n",
            "Self-emp-not-inc     3862\n",
            "Local-gov            3136\n",
            "?                    2799\n",
            "State-gov            1981\n",
            "Self-emp-inc         1695\n",
            "Federal-gov          1432\n",
            "Without-pay            21\n",
            "Never-worked           10\n",
            "Name: count, dtype: int64\n",
            "-------\n",
            "education\n",
            "HS-grad         15784\n",
            "Some-college    10878\n",
            "Bachelors        8025\n",
            "Masters          2657\n",
            "Assoc-voc        2061\n",
            "11th             1812\n",
            "Assoc-acdm       1601\n",
            "10th             1389\n",
            "7th-8th           955\n",
            "Prof-school       834\n",
            "9th               756\n",
            "12th              657\n",
            "Doctorate         594\n",
            "5th-6th           509\n",
            "1st-4th           247\n",
            "Preschool          83\n",
            "Name: count, dtype: int64\n",
            "-------\n",
            "marital-status\n",
            "Married-civ-spouse       22379\n",
            "Never-married            16117\n",
            "Divorced                  6633\n",
            "Separated                 1530\n",
            "Widowed                   1518\n",
            "Married-spouse-absent      628\n",
            "Married-AF-spouse           37\n",
            "Name: count, dtype: int64\n",
            "-------\n",
            "occupation\n",
            "Prof-specialty       6172\n",
            "Craft-repair         6112\n",
            "Exec-managerial      6086\n",
            "Adm-clerical         5611\n",
            "Sales                5504\n",
            "Other-service        4923\n",
            "Machine-op-inspct    3022\n",
            "?                    2809\n",
            "Transport-moving     2355\n",
            "Handlers-cleaners    2072\n",
            "Farming-fishing      1490\n",
            "Tech-support         1446\n",
            "Protective-serv       983\n",
            "Priv-house-serv       242\n",
            "Armed-Forces           15\n",
            "Name: count, dtype: int64\n",
            "-------\n",
            "relationship\n",
            "Husband           19716\n",
            "Not-in-family     12583\n",
            "Own-child          7581\n",
            "Unmarried          5125\n",
            "Wife               2331\n",
            "Other-relative     1506\n",
            "Name: count, dtype: int64\n",
            "-------\n",
            "race\n",
            "White                 41762\n",
            "Black                  4685\n",
            "Asian-Pac-Islander     1519\n",
            "Amer-Indian-Eskimo      470\n",
            "Other                   406\n",
            "Name: count, dtype: int64\n",
            "-------\n",
            "gender\n",
            "Male      32650\n",
            "Female    16192\n",
            "Name: count, dtype: int64\n",
            "-------\n",
            "native-country\n",
            "United-States                 43832\n",
            "Mexico                          951\n",
            "?                               857\n",
            "Philippines                     295\n",
            "Germany                         206\n",
            "Puerto-Rico                     184\n",
            "Canada                          182\n",
            "El-Salvador                     155\n",
            "India                           151\n",
            "Cuba                            138\n",
            "England                         127\n",
            "China                           122\n",
            "South                           115\n",
            "Jamaica                         106\n",
            "Italy                           105\n",
            "Dominican-Republic              103\n",
            "Japan                            92\n",
            "Guatemala                        88\n",
            "Poland                           87\n",
            "Vietnam                          86\n",
            "Columbia                         85\n",
            "Haiti                            75\n",
            "Portugal                         67\n",
            "Taiwan                           65\n",
            "Iran                             59\n",
            "Nicaragua                        49\n",
            "Greece                           49\n",
            "Peru                             46\n",
            "Ecuador                          45\n",
            "France                           38\n",
            "Ireland                          37\n",
            "Thailand                         30\n",
            "Hong                             30\n",
            "Cambodia                         28\n",
            "Trinadad&Tobago                  27\n",
            "Laos                             23\n",
            "Outlying-US(Guam-USVI-etc)       23\n",
            "Yugoslavia                       23\n",
            "Scotland                         21\n",
            "Honduras                         20\n",
            "Hungary                          19\n",
            "Holand-Netherlands                1\n",
            "Name: count, dtype: int64\n",
            "-------\n",
            "income\n",
            "<=50K    37155\n",
            ">50K     11687\n",
            "Name: count, dtype: int64\n",
            "-------\n"
          ]
        }
      ],
      "source": [
        "categorical_fea=df.select_dtypes(include=['object'])\n",
        "for i in categorical_fea:\n",
        "  print(df[i].value_counts())\n",
        "  print(\"-------\")"
      ]
    },
    {
      "cell_type": "code",
      "execution_count": 43,
      "metadata": {
        "id": "DWt1n3wL8xeZ"
      },
      "outputs": [],
      "source": [
        "# Drop columns 'race' and 'relationship'\n",
        "df.drop(columns=['race','relationship'], inplace=True)"
      ]
    },
    {
      "cell_type": "code",
      "execution_count": 44,
      "metadata": {
        "id": "V5rtJ59u_ERi"
      },
      "outputs": [],
      "source": [
        "# remove duplicate rows\n",
        "df.drop_duplicates(inplace=True)"
      ]
    },
    {
      "cell_type": "code",
      "execution_count": 45,
      "metadata": {
        "colab": {
          "base_uri": "https://localhost:8080/"
        },
        "id": "nkwSN-NS_Y2W",
        "outputId": "d14d8a3b-c8b9-40c9-fa6a-7682cc0276c8"
      },
      "outputs": [
        {
          "name": "stdout",
          "output_type": "stream",
          "text": [
            "<class 'pandas.core.frame.DataFrame'>\n",
            "Index: 48778 entries, 0 to 48841\n",
            "Data columns (total 13 columns):\n",
            " #   Column           Non-Null Count  Dtype \n",
            "---  ------           --------------  ----- \n",
            " 0   age              48778 non-null  int64 \n",
            " 1   workclass        48778 non-null  object\n",
            " 2   fnlwgt           48778 non-null  int64 \n",
            " 3   education        48778 non-null  object\n",
            " 4   educational-num  48778 non-null  int64 \n",
            " 5   marital-status   48778 non-null  object\n",
            " 6   occupation       48778 non-null  object\n",
            " 7   gender           48778 non-null  object\n",
            " 8   capital-gain     48778 non-null  int64 \n",
            " 9   capital-loss     48778 non-null  int64 \n",
            " 10  hours-per-week   48778 non-null  int64 \n",
            " 11  native-country   48778 non-null  object\n",
            " 12  income           48778 non-null  object\n",
            "dtypes: int64(6), object(7)\n",
            "memory usage: 5.2+ MB\n"
          ]
        }
      ],
      "source": [
        "df.info()"
      ]
    },
    {
      "cell_type": "code",
      "execution_count": 46,
      "metadata": {
        "colab": {
          "base_uri": "https://localhost:8080/",
          "height": 617
        },
        "id": "XbkBZACQ_bHI",
        "outputId": "bd96e437-498f-4689-d91a-d2435ab6de55"
      },
      "outputs": [
        {
          "data": {
            "text/plain": [
              "education     educational-num\n",
              "HS-grad       9                  15763\n",
              "Some-college  10                 10859\n",
              "Bachelors     13                  8012\n",
              "Masters       14                  2656\n",
              "Assoc-voc     11                  2060\n",
              "11th          7                   1812\n",
              "Assoc-acdm    12                  1601\n",
              "10th          6                   1389\n",
              "7th-8th       4                    954\n",
              "Prof-school   15                   834\n",
              "9th           5                    756\n",
              "12th          8                    655\n",
              "Doctorate     16                   594\n",
              "5th-6th       3                    507\n",
              "1st-4th       2                    245\n",
              "Preschool     1                     81\n",
              "Name: count, dtype: int64"
            ]
          },
          "execution_count": 46,
          "metadata": {},
          "output_type": "execute_result"
        }
      ],
      "source": [
        "df[['education','educational-num']].value_counts()"
      ]
    },
    {
      "cell_type": "code",
      "execution_count": 47,
      "metadata": {
        "colab": {
          "base_uri": "https://localhost:8080/"
        },
        "id": "c7bND49BBED1",
        "outputId": "843e56ad-d5f4-4422-bc54-7bd9597b7433"
      },
      "outputs": [
        {
          "name": "stdout",
          "output_type": "stream",
          "text": [
            "<class 'pandas.core.frame.DataFrame'>\n",
            "Index: 13697 entries, 2 to 48837\n",
            "Data columns (total 13 columns):\n",
            " #   Column           Non-Null Count  Dtype \n",
            "---  ------           --------------  ----- \n",
            " 0   age              13697 non-null  int64 \n",
            " 1   workclass        13697 non-null  object\n",
            " 2   fnlwgt           13697 non-null  int64 \n",
            " 3   education        13697 non-null  object\n",
            " 4   educational-num  13697 non-null  int64 \n",
            " 5   marital-status   13697 non-null  object\n",
            " 6   occupation       13697 non-null  object\n",
            " 7   gender           13697 non-null  object\n",
            " 8   capital-gain     13697 non-null  int64 \n",
            " 9   capital-loss     13697 non-null  int64 \n",
            " 10  hours-per-week   13697 non-null  int64 \n",
            " 11  native-country   13697 non-null  object\n",
            " 12  income           13697 non-null  object\n",
            "dtypes: int64(6), object(7)\n",
            "memory usage: 1.5+ MB\n"
          ]
        }
      ],
      "source": [
        "df= df[df['educational-num'] >= 12]\n",
        "df.info()\n"
      ]
    },
    {
      "cell_type": "code",
      "execution_count": 48,
      "metadata": {
        "colab": {
          "base_uri": "https://localhost:8080/"
        },
        "id": "pQ8edH8qBMCb",
        "outputId": "d46e0cba-d701-4101-a859-03a284638f68"
      },
      "outputs": [],
      "source": [
        "df.drop(columns=['education'], inplace=True)"
      ]
    },
    {
      "cell_type": "markdown",
      "metadata": {
        "id": "lUu65mUQDhuC"
      },
      "source": [
        "## Data Cleaning"
      ]
    },
    {
      "cell_type": "code",
      "execution_count": 49,
      "metadata": {
        "colab": {
          "base_uri": "https://localhost:8080/"
        },
        "id": "TjqTrrdyDlxB",
        "outputId": "7f0b3bac-5a5c-4106-df9b-4e89b9a32beb"
      },
      "outputs": [
        {
          "name": "stderr",
          "output_type": "stream",
          "text": [
            "C:\\Users\\VIJAY\\AppData\\Local\\Temp\\ipykernel_32364\\2158455904.py:1: FutureWarning: A value is trying to be set on a copy of a DataFrame or Series through chained assignment using an inplace method.\n",
            "The behavior will change in pandas 3.0. This inplace method will never work because the intermediate object on which we are setting values always behaves as a copy.\n",
            "\n",
            "For example, when doing 'df[col].method(value, inplace=True)', try using 'df.method({col: value}, inplace=True)' or df[col] = df[col].method(value) instead, to perform the operation inplace on the original object.\n",
            "\n",
            "\n",
            "  df['workclass'].replace('?', 'unknow', inplace=True)\n",
            "C:\\Users\\VIJAY\\AppData\\Local\\Temp\\ipykernel_32364\\2158455904.py:2: FutureWarning: A value is trying to be set on a copy of a DataFrame or Series through chained assignment using an inplace method.\n",
            "The behavior will change in pandas 3.0. This inplace method will never work because the intermediate object on which we are setting values always behaves as a copy.\n",
            "\n",
            "For example, when doing 'df[col].method(value, inplace=True)', try using 'df.method({col: value}, inplace=True)' or df[col] = df[col].method(value) instead, to perform the operation inplace on the original object.\n",
            "\n",
            "\n",
            "  df['occupation'].replace('?', 'unknow', inplace=True)\n",
            "C:\\Users\\VIJAY\\AppData\\Local\\Temp\\ipykernel_32364\\2158455904.py:3: FutureWarning: A value is trying to be set on a copy of a DataFrame or Series through chained assignment using an inplace method.\n",
            "The behavior will change in pandas 3.0. This inplace method will never work because the intermediate object on which we are setting values always behaves as a copy.\n",
            "\n",
            "For example, when doing 'df[col].method(value, inplace=True)', try using 'df.method({col: value}, inplace=True)' or df[col] = df[col].method(value) instead, to perform the operation inplace on the original object.\n",
            "\n",
            "\n",
            "  df['native-country'].replace('?', 'unknow', inplace=True)\n"
          ]
        }
      ],
      "source": [
        "df['workclass'].replace('?', 'unknow', inplace=True)\n",
        "df['occupation'].replace('?', 'unknow', inplace=True)\n",
        "df['native-country'].replace('?', 'unknow', inplace=True)"
      ]
    },
    {
      "cell_type": "code",
      "execution_count": 50,
      "metadata": {
        "colab": {
          "base_uri": "https://localhost:8080/"
        },
        "id": "sEB7kxWwD4Zu",
        "outputId": "e9ac1492-ecdc-479e-e2b9-847d8a032bc1"
      },
      "outputs": [
        {
          "name": "stdout",
          "output_type": "stream",
          "text": [
            "workclass\n",
            "Private             8375\n",
            "Local-gov           1431\n",
            "Self-emp-not-inc    1197\n",
            "State-gov            923\n",
            "Self-emp-inc         772\n",
            "Federal-gov          564\n",
            "unknow               433\n",
            "Without-pay            2\n",
            "Name: count, dtype: int64"
          ]
        },
        {
          "name": "stdout",
          "output_type": "stream",
          "text": [
            "\n",
            "-------\n",
            "marital-status\n",
            "Married-civ-spouse       7356\n",
            "Never-married            4064\n",
            "Divorced                 1620\n",
            "Widowed                   244\n",
            "Separated                 243\n",
            "Married-spouse-absent     160\n",
            "Married-AF-spouse          10\n",
            "Name: count, dtype: int64\n",
            "-------\n",
            "occupation\n",
            "Prof-specialty       4855\n",
            "Exec-managerial      3193\n",
            "Sales                1721\n",
            "Adm-clerical         1167\n",
            "Craft-repair          544\n",
            "Tech-support          541\n",
            "unknow                433\n",
            "Other-service         413\n",
            "Protective-serv       219\n",
            "Machine-op-inspct     164\n",
            "Farming-fishing       160\n",
            "Transport-moving      148\n",
            "Handlers-cleaners     118\n",
            "Priv-house-serv        17\n",
            "Armed-Forces            4\n",
            "Name: count, dtype: int64\n",
            "-------\n",
            "gender\n",
            "Male      9507\n",
            "Female    4190\n",
            "Name: count, dtype: int64\n",
            "-------\n",
            "native-country\n",
            "United-States                 12194\n",
            "unknow                          368\n",
            "Philippines                     141\n",
            "India                           110\n",
            "Germany                          80\n",
            "China                            69\n",
            "Canada                           67\n",
            "England                          62\n",
            "Mexico                           56\n",
            "Taiwan                           54\n",
            "Japan                            46\n",
            "South                            44\n",
            "Cuba                             40\n",
            "Iran                             38\n",
            "Italy                            27\n",
            "Poland                           25\n",
            "Jamaica                          24\n",
            "France                           24\n",
            "Vietnam                          22\n",
            "Puerto-Rico                      21\n",
            "El-Salvador                      17\n",
            "Columbia                         16\n",
            "Hong                             15\n",
            "Thailand                         13\n",
            "Peru                             12\n",
            "Haiti                            12\n",
            "Greece                           11\n",
            "Ireland                          10\n",
            "Dominican-Republic               10\n",
            "Hungary                           9\n",
            "Ecuador                           8\n",
            "Nicaragua                         8\n",
            "Scotland                          7\n",
            "Outlying-US(Guam-USVI-etc)        6\n",
            "Yugoslavia                        6\n",
            "Cambodia                          5\n",
            "Laos                              5\n",
            "Trinadad&Tobago                   4\n",
            "Guatemala                         4\n",
            "Portugal                          4\n",
            "Honduras                          3\n",
            "Name: count, dtype: int64\n",
            "-------\n",
            "income\n",
            "<=50K    7466\n",
            ">50K     6231\n",
            "Name: count, dtype: int64\n",
            "-------\n"
          ]
        }
      ],
      "source": [
        "categorical_fea=df.select_dtypes(include=['object'])\n",
        "for i in categorical_fea:\n",
        "  print(df[i].value_counts())\n",
        "  print(\"-------\")"
      ]
    },
    {
      "cell_type": "code",
      "execution_count": 51,
      "metadata": {
        "colab": {
          "base_uri": "https://localhost:8080/"
        },
        "id": "xGgAp18QFLOx",
        "outputId": "507763fd-bb53-4dc8-b24a-36867051a602"
      },
      "outputs": [],
      "source": [
        "df.drop(columns=['capital-gain','capital-loss','fnlwgt','marital-status'], inplace=True)"
      ]
    },
    {
      "cell_type": "code",
      "execution_count": 52,
      "metadata": {
        "colab": {
          "base_uri": "https://localhost:8080/"
        },
        "id": "Kp1eE2T1F112",
        "outputId": "63be3f12-0a0a-4b3c-d5fa-9ba2388321f0"
      },
      "outputs": [
        {
          "name": "stderr",
          "output_type": "stream",
          "text": [
            "C:\\Users\\VIJAY\\AppData\\Local\\Temp\\ipykernel_32364\\3247117567.py:2: FutureWarning: A value is trying to be set on a copy of a DataFrame or Series through chained assignment using an inplace method.\n",
            "The behavior will change in pandas 3.0. This inplace method will never work because the intermediate object on which we are setting values always behaves as a copy.\n",
            "\n",
            "For example, when doing 'df[col].method(value, inplace=True)', try using 'df.method({col: value}, inplace=True)' or df[col] = df[col].method(value) instead, to perform the operation inplace on the original object.\n",
            "\n",
            "\n",
            "  df['income'].replace({'<=50K': 0, '>50K': 1}, inplace=True)\n",
            "C:\\Users\\VIJAY\\AppData\\Local\\Temp\\ipykernel_32364\\3247117567.py:2: FutureWarning: Downcasting behavior in `replace` is deprecated and will be removed in a future version. To retain the old behavior, explicitly call `result.infer_objects(copy=False)`. To opt-in to the future behavior, set `pd.set_option('future.no_silent_downcasting', True)`\n",
            "  df['income'].replace({'<=50K': 0, '>50K': 1}, inplace=True)\n"
          ]
        }
      ],
      "source": [
        "# convert the target feature to 0 and 1\n",
        "df['income'].replace({'<=50K': 0, '>50K': 1}, inplace=True)"
      ]
    },
    {
      "cell_type": "code",
      "execution_count": 53,
      "metadata": {
        "colab": {
          "base_uri": "https://localhost:8080/",
          "height": 258
        },
        "id": "G-jYuoOrF_dD",
        "outputId": "c85e5288-40f3-4310-e905-6b34e6652566"
      },
      "outputs": [
        {
          "data": {
            "text/html": [
              "<div>\n",
              "<style scoped>\n",
              "    .dataframe tbody tr th:only-of-type {\n",
              "        vertical-align: middle;\n",
              "    }\n",
              "\n",
              "    .dataframe tbody tr th {\n",
              "        vertical-align: top;\n",
              "    }\n",
              "\n",
              "    .dataframe thead th {\n",
              "        text-align: right;\n",
              "    }\n",
              "</style>\n",
              "<table border=\"1\" class=\"dataframe\">\n",
              "  <thead>\n",
              "    <tr style=\"text-align: right;\">\n",
              "      <th></th>\n",
              "      <th>age</th>\n",
              "      <th>workclass</th>\n",
              "      <th>educational-num</th>\n",
              "      <th>occupation</th>\n",
              "      <th>gender</th>\n",
              "      <th>hours-per-week</th>\n",
              "      <th>native-country</th>\n",
              "      <th>income</th>\n",
              "    </tr>\n",
              "  </thead>\n",
              "  <tbody>\n",
              "    <tr>\n",
              "      <th>2</th>\n",
              "      <td>28</td>\n",
              "      <td>Local-gov</td>\n",
              "      <td>12</td>\n",
              "      <td>Protective-serv</td>\n",
              "      <td>Male</td>\n",
              "      <td>40</td>\n",
              "      <td>United-States</td>\n",
              "      <td>1</td>\n",
              "    </tr>\n",
              "    <tr>\n",
              "      <th>7</th>\n",
              "      <td>63</td>\n",
              "      <td>Self-emp-not-inc</td>\n",
              "      <td>15</td>\n",
              "      <td>Prof-specialty</td>\n",
              "      <td>Male</td>\n",
              "      <td>32</td>\n",
              "      <td>United-States</td>\n",
              "      <td>1</td>\n",
              "    </tr>\n",
              "    <tr>\n",
              "      <th>11</th>\n",
              "      <td>36</td>\n",
              "      <td>Federal-gov</td>\n",
              "      <td>13</td>\n",
              "      <td>Adm-clerical</td>\n",
              "      <td>Male</td>\n",
              "      <td>40</td>\n",
              "      <td>United-States</td>\n",
              "      <td>0</td>\n",
              "    </tr>\n",
              "    <tr>\n",
              "      <th>15</th>\n",
              "      <td>43</td>\n",
              "      <td>Private</td>\n",
              "      <td>14</td>\n",
              "      <td>Exec-managerial</td>\n",
              "      <td>Male</td>\n",
              "      <td>50</td>\n",
              "      <td>United-States</td>\n",
              "      <td>1</td>\n",
              "    </tr>\n",
              "    <tr>\n",
              "      <th>19</th>\n",
              "      <td>40</td>\n",
              "      <td>Private</td>\n",
              "      <td>16</td>\n",
              "      <td>Prof-specialty</td>\n",
              "      <td>Male</td>\n",
              "      <td>45</td>\n",
              "      <td>unknow</td>\n",
              "      <td>1</td>\n",
              "    </tr>\n",
              "  </tbody>\n",
              "</table>\n",
              "</div>"
            ],
            "text/plain": [
              "    age         workclass  educational-num       occupation gender  \\\n",
              "2    28         Local-gov               12  Protective-serv   Male   \n",
              "7    63  Self-emp-not-inc               15   Prof-specialty   Male   \n",
              "11   36       Federal-gov               13     Adm-clerical   Male   \n",
              "15   43           Private               14  Exec-managerial   Male   \n",
              "19   40           Private               16   Prof-specialty   Male   \n",
              "\n",
              "    hours-per-week native-country  income  \n",
              "2               40  United-States       1  \n",
              "7               32  United-States       1  \n",
              "11              40  United-States       0  \n",
              "15              50  United-States       1  \n",
              "19              45         unknow       1  "
            ]
          },
          "execution_count": 53,
          "metadata": {},
          "output_type": "execute_result"
        }
      ],
      "source": [
        "df.head()"
      ]
    },
    {
      "cell_type": "code",
      "execution_count": 54,
      "metadata": {
        "colab": {
          "base_uri": "https://localhost:8080/"
        },
        "id": "ymCbqdiTGC2t",
        "outputId": "d4e7ef77-9674-40eb-c5d6-123c61203515"
      },
      "outputs": [
        {
          "name": "stderr",
          "output_type": "stream",
          "text": [
            "C:\\Users\\VIJAY\\AppData\\Local\\Temp\\ipykernel_32364\\2191433034.py:1: FutureWarning: A value is trying to be set on a copy of a DataFrame or Series through chained assignment using an inplace method.\n",
            "The behavior will change in pandas 3.0. This inplace method will never work because the intermediate object on which we are setting values always behaves as a copy.\n",
            "\n",
            "For example, when doing 'df[col].method(value, inplace=True)', try using 'df.method({col: value}, inplace=True)' or df[col] = df[col].method(value) instead, to perform the operation inplace on the original object.\n",
            "\n",
            "\n",
            "  df['gender'].replace({'Male': 0, 'Female': 1}, inplace=True)\n",
            "C:\\Users\\VIJAY\\AppData\\Local\\Temp\\ipykernel_32364\\2191433034.py:1: FutureWarning: Downcasting behavior in `replace` is deprecated and will be removed in a future version. To retain the old behavior, explicitly call `result.infer_objects(copy=False)`. To opt-in to the future behavior, set `pd.set_option('future.no_silent_downcasting', True)`\n",
            "  df['gender'].replace({'Male': 0, 'Female': 1}, inplace=True)\n"
          ]
        }
      ],
      "source": [
        "df['gender'].replace({'Male': 0, 'Female': 1}, inplace=True)"
      ]
    },
    {
      "cell_type": "code",
      "execution_count": 55,
      "metadata": {
        "colab": {
          "base_uri": "https://localhost:8080/"
        },
        "id": "suFSKe4HJRVs",
        "outputId": "a22c7afc-0ba2-4ae0-f67c-b93da2dd762b"
      },
      "outputs": [
        {
          "name": "stdout",
          "output_type": "stream",
          "text": [
            "workclass\n",
            "Private             8375\n",
            "Local-gov           1431\n",
            "Self-emp-not-inc    1197\n",
            "State-gov            923\n",
            "Self-emp-inc         772\n",
            "Federal-gov          564\n",
            "unknow               433\n",
            "Without-pay            2\n",
            "Name: count, dtype: int64\n",
            "-------\n",
            "8\n",
            "occupation\n",
            "Prof-specialty       4855\n",
            "Exec-managerial      3193\n",
            "Sales                1721\n",
            "Adm-clerical         1167\n",
            "Craft-repair          544\n",
            "Tech-support          541\n",
            "unknow                433\n",
            "Other-service         413\n",
            "Protective-serv       219\n",
            "Machine-op-inspct     164\n",
            "Farming-fishing       160\n",
            "Transport-moving      148\n",
            "Handlers-cleaners     118\n",
            "Priv-house-serv        17\n",
            "Armed-Forces            4\n",
            "Name: count, dtype: int64\n",
            "-------\n",
            "15\n",
            "native-country\n",
            "United-States                 12194\n",
            "unknow                          368\n",
            "Philippines                     141\n",
            "India                           110\n",
            "Germany                          80\n",
            "China                            69\n",
            "Canada                           67\n",
            "England                          62\n",
            "Mexico                           56\n",
            "Taiwan                           54\n",
            "Japan                            46\n",
            "South                            44\n",
            "Cuba                             40\n",
            "Iran                             38\n",
            "Italy                            27\n",
            "Poland                           25\n",
            "Jamaica                          24\n",
            "France                           24\n",
            "Vietnam                          22\n",
            "Puerto-Rico                      21\n",
            "El-Salvador                      17\n",
            "Columbia                         16\n",
            "Hong                             15\n",
            "Thailand                         13\n",
            "Peru                             12\n",
            "Haiti                            12\n",
            "Greece                           11\n",
            "Ireland                          10\n",
            "Dominican-Republic               10\n",
            "Hungary                           9\n",
            "Ecuador                           8\n",
            "Nicaragua                         8\n",
            "Scotland                          7\n",
            "Outlying-US(Guam-USVI-etc)        6\n",
            "Yugoslavia                        6\n",
            "Cambodia                          5\n",
            "Laos                              5\n",
            "Trinadad&Tobago                   4\n",
            "Guatemala                         4\n",
            "Portugal                          4\n",
            "Honduras                          3\n",
            "Name: count, dtype: int64\n",
            "-------\n",
            "41\n"
          ]
        }
      ],
      "source": [
        "categorical_fea=df.select_dtypes(include=['object'])\n",
        "for i in categorical_fea:\n",
        "  print(df[i].value_counts())\n",
        "  print(\"-------\")\n",
        "  print(len(df[i].value_counts()))"
      ]
    },
    {
      "cell_type": "code",
      "execution_count": null,
      "metadata": {
        "id": "0-4qjG3MMwA1"
      },
      "outputs": [],
      "source": []
    },
    {
      "cell_type": "code",
      "execution_count": 56,
      "metadata": {
        "id": "BLHYvZRJKc1N"
      },
      "outputs": [],
      "source": [
        "# For occupation\n",
        "occupation_counts =df['occupation'].value_counts()\n",
        "rare_occupations = occupation_counts[occupation_counts < 50].index  # threshold = 50\n",
        "df['occupation'] = df['occupation'].replace(rare_occupations, 'Other')\n",
        "df['occupation'] = df['occupation'].replace('unknow', 'Other')\n",
        "\n",
        "# For native-country\n",
        "country_counts = df['native-country'].value_counts()\n",
        "rare_countries = country_counts[country_counts < 50].index\n",
        "df['native-country'] = df['native-country'].replace(rare_countries, 'Other')\n",
        "df['native-country'] = df['native-country'].replace('unknow', 'Other')\n"
      ]
    },
    {
      "cell_type": "code",
      "execution_count": 57,
      "metadata": {
        "colab": {
          "base_uri": "https://localhost:8080/",
          "height": 258
        },
        "id": "qFFWDfgrLo18",
        "outputId": "74a72f8d-ff3d-4809-d91a-c28edd900038"
      },
      "outputs": [
        {
          "data": {
            "text/html": [
              "<div>\n",
              "<style scoped>\n",
              "    .dataframe tbody tr th:only-of-type {\n",
              "        vertical-align: middle;\n",
              "    }\n",
              "\n",
              "    .dataframe tbody tr th {\n",
              "        vertical-align: top;\n",
              "    }\n",
              "\n",
              "    .dataframe thead th {\n",
              "        text-align: right;\n",
              "    }\n",
              "</style>\n",
              "<table border=\"1\" class=\"dataframe\">\n",
              "  <thead>\n",
              "    <tr style=\"text-align: right;\">\n",
              "      <th></th>\n",
              "      <th>age</th>\n",
              "      <th>workclass</th>\n",
              "      <th>educational-num</th>\n",
              "      <th>occupation</th>\n",
              "      <th>gender</th>\n",
              "      <th>hours-per-week</th>\n",
              "      <th>native-country</th>\n",
              "      <th>income</th>\n",
              "    </tr>\n",
              "  </thead>\n",
              "  <tbody>\n",
              "    <tr>\n",
              "      <th>2</th>\n",
              "      <td>28</td>\n",
              "      <td>Local-gov</td>\n",
              "      <td>12</td>\n",
              "      <td>Protective-serv</td>\n",
              "      <td>0</td>\n",
              "      <td>40</td>\n",
              "      <td>United-States</td>\n",
              "      <td>1</td>\n",
              "    </tr>\n",
              "    <tr>\n",
              "      <th>7</th>\n",
              "      <td>63</td>\n",
              "      <td>Self-emp-not-inc</td>\n",
              "      <td>15</td>\n",
              "      <td>Prof-specialty</td>\n",
              "      <td>0</td>\n",
              "      <td>32</td>\n",
              "      <td>United-States</td>\n",
              "      <td>1</td>\n",
              "    </tr>\n",
              "    <tr>\n",
              "      <th>11</th>\n",
              "      <td>36</td>\n",
              "      <td>Federal-gov</td>\n",
              "      <td>13</td>\n",
              "      <td>Adm-clerical</td>\n",
              "      <td>0</td>\n",
              "      <td>40</td>\n",
              "      <td>United-States</td>\n",
              "      <td>0</td>\n",
              "    </tr>\n",
              "    <tr>\n",
              "      <th>15</th>\n",
              "      <td>43</td>\n",
              "      <td>Private</td>\n",
              "      <td>14</td>\n",
              "      <td>Exec-managerial</td>\n",
              "      <td>0</td>\n",
              "      <td>50</td>\n",
              "      <td>United-States</td>\n",
              "      <td>1</td>\n",
              "    </tr>\n",
              "    <tr>\n",
              "      <th>19</th>\n",
              "      <td>40</td>\n",
              "      <td>Private</td>\n",
              "      <td>16</td>\n",
              "      <td>Prof-specialty</td>\n",
              "      <td>0</td>\n",
              "      <td>45</td>\n",
              "      <td>Other</td>\n",
              "      <td>1</td>\n",
              "    </tr>\n",
              "  </tbody>\n",
              "</table>\n",
              "</div>"
            ],
            "text/plain": [
              "    age         workclass  educational-num       occupation  gender  \\\n",
              "2    28         Local-gov               12  Protective-serv       0   \n",
              "7    63  Self-emp-not-inc               15   Prof-specialty       0   \n",
              "11   36       Federal-gov               13     Adm-clerical       0   \n",
              "15   43           Private               14  Exec-managerial       0   \n",
              "19   40           Private               16   Prof-specialty       0   \n",
              "\n",
              "    hours-per-week native-country  income  \n",
              "2               40  United-States       1  \n",
              "7               32  United-States       1  \n",
              "11              40  United-States       0  \n",
              "15              50  United-States       1  \n",
              "19              45          Other       1  "
            ]
          },
          "execution_count": 57,
          "metadata": {},
          "output_type": "execute_result"
        }
      ],
      "source": [
        "df.head()"
      ]
    },
    {
      "cell_type": "code",
      "execution_count": 58,
      "metadata": {
        "colab": {
          "base_uri": "https://localhost:8080/"
        },
        "id": "d9EIj7PpMfv6",
        "outputId": "31977f8e-465d-45f3-b83a-b20a1632e23e"
      },
      "outputs": [
        {
          "name": "stdout",
          "output_type": "stream",
          "text": [
            "workclass\n",
            "Private             8375\n",
            "Local-gov           1431\n",
            "Self-emp-not-inc    1197\n",
            "State-gov            923\n",
            "Self-emp-inc         772\n",
            "Federal-gov          564\n",
            "unknow               433\n",
            "Without-pay            2\n",
            "Name: count, dtype: int64\n",
            "-------\n",
            "8\n",
            "occupation\n",
            "Prof-specialty       4855\n",
            "Exec-managerial      3193\n",
            "Sales                1721\n",
            "Adm-clerical         1167\n",
            "Craft-repair          544\n",
            "Tech-support          541\n",
            "Other                 454\n",
            "Other-service         413\n",
            "Protective-serv       219\n",
            "Machine-op-inspct     164\n",
            "Farming-fishing       160\n",
            "Transport-moving      148\n",
            "Handlers-cleaners     118\n",
            "Name: count, dtype: int64\n",
            "-------\n",
            "13\n",
            "native-country\n",
            "United-States    12194\n",
            "Other              864\n",
            "Philippines        141\n",
            "India              110\n",
            "Germany             80\n",
            "China               69\n",
            "Canada              67\n",
            "England             62\n",
            "Mexico              56\n",
            "Taiwan              54\n",
            "Name: count, dtype: int64\n",
            "-------\n",
            "10\n"
          ]
        }
      ],
      "source": [
        "categorical_fea=df.select_dtypes(include=['object'])\n",
        "for i in categorical_fea:\n",
        "  print(df[i].value_counts())\n",
        "  print(\"-------\")\n",
        "  print(len(df[i].value_counts()))"
      ]
    },
    {
      "cell_type": "code",
      "execution_count": 59,
      "metadata": {},
      "outputs": [
        {
          "name": "stdout",
          "output_type": "stream",
          "text": [
            "Requirement already satisfied: scikit-learn in c:\\users\\vijay\\.conda\\envs\\retail_st\\lib\\site-packages (1.7.1)\n",
            "Requirement already satisfied: numpy>=1.22.0 in c:\\users\\vijay\\.conda\\envs\\retail_st\\lib\\site-packages (from scikit-learn) (2.2.2)\n",
            "Requirement already satisfied: scipy>=1.8.0 in c:\\users\\vijay\\.conda\\envs\\retail_st\\lib\\site-packages (from scikit-learn) (1.16.0)\n",
            "Requirement already satisfied: joblib>=1.2.0 in c:\\users\\vijay\\.conda\\envs\\retail_st\\lib\\site-packages (from scikit-learn) (1.5.1)\n",
            "Requirement already satisfied: threadpoolctl>=3.1.0 in c:\\users\\vijay\\.conda\\envs\\retail_st\\lib\\site-packages (from scikit-learn) (3.6.0)\n"
          ]
        }
      ],
      "source": [
        "!pip install scikit-learn"
      ]
    },
    {
      "cell_type": "code",
      "execution_count": null,
      "metadata": {},
      "outputs": [],
      "source": []
    },
    {
      "cell_type": "code",
      "execution_count": 60,
      "metadata": {
        "id": "6I1WpBrIM6dx"
      },
      "outputs": [],
      "source": [
        "import pandas as pd\n",
        "from sklearn.preprocessing import OneHotEncoder\n",
        "import pickle\n",
        "\n",
        "# Sample input DataFrame (assuming it's already loaded and cleaned)\n",
        "# df = pd.read_csv(...) or created elsewhere\n",
        "\n",
        "# Define the categorical columns\n",
        "cat_cols = ['occupation', 'native-country', 'workclass']\n",
        "\n",
        "# Initialize the OneHotEncoder\n",
        "encoder = OneHotEncoder(drop='first', handle_unknown='ignore', sparse_output=False)\n",
        "\n",
        "# Fit and transform the categorical data\n",
        "# Fit after cleaning the data\n",
        "encoder.fit(df[cat_cols])\n",
        "encoded_array = encoder.transform(df[cat_cols])\n",
        "\n",
        "\n",
        "# Convert encoded array to DataFrame\n",
        "encoded_df = pd.DataFrame(encoded_array, columns=encoder.get_feature_names_out(cat_cols), index=df.index)\n",
        "\n",
        "# Drop original categorical columns and concatenate encoded DataFrame\n",
        "df = df.drop(columns=cat_cols)\n",
        "df = pd.concat([df, encoded_df], axis=1)\n",
        "\n",
        "# Convert all boolean columns to int\n",
        "bool_cols = df.select_dtypes(include=['bool']).columns\n",
        "df[bool_cols] = df[bool_cols].astype(int)\n",
        "\n",
        "# Save the encoder to a pickle file\n",
        "with open('onehot_encoder.pkl', 'wb') as f:\n",
        "    pickle.dump(encoder, f)"
      ]
    },
    {
      "cell_type": "code",
      "execution_count": 61,
      "metadata": {
        "colab": {
          "base_uri": "https://localhost:8080/",
          "height": 290
        },
        "id": "CIjdTeQvNfpV",
        "outputId": "971aae9c-8154-4361-987e-e63c54f33a40"
      },
      "outputs": [
        {
          "data": {
            "text/html": [
              "<div>\n",
              "<style scoped>\n",
              "    .dataframe tbody tr th:only-of-type {\n",
              "        vertical-align: middle;\n",
              "    }\n",
              "\n",
              "    .dataframe tbody tr th {\n",
              "        vertical-align: top;\n",
              "    }\n",
              "\n",
              "    .dataframe thead th {\n",
              "        text-align: right;\n",
              "    }\n",
              "</style>\n",
              "<table border=\"1\" class=\"dataframe\">\n",
              "  <thead>\n",
              "    <tr style=\"text-align: right;\">\n",
              "      <th></th>\n",
              "      <th>age</th>\n",
              "      <th>educational-num</th>\n",
              "      <th>gender</th>\n",
              "      <th>hours-per-week</th>\n",
              "      <th>income</th>\n",
              "      <th>occupation_Craft-repair</th>\n",
              "      <th>occupation_Exec-managerial</th>\n",
              "      <th>occupation_Farming-fishing</th>\n",
              "      <th>occupation_Handlers-cleaners</th>\n",
              "      <th>occupation_Machine-op-inspct</th>\n",
              "      <th>...</th>\n",
              "      <th>native-country_Philippines</th>\n",
              "      <th>native-country_Taiwan</th>\n",
              "      <th>native-country_United-States</th>\n",
              "      <th>workclass_Local-gov</th>\n",
              "      <th>workclass_Private</th>\n",
              "      <th>workclass_Self-emp-inc</th>\n",
              "      <th>workclass_Self-emp-not-inc</th>\n",
              "      <th>workclass_State-gov</th>\n",
              "      <th>workclass_Without-pay</th>\n",
              "      <th>workclass_unknow</th>\n",
              "    </tr>\n",
              "  </thead>\n",
              "  <tbody>\n",
              "    <tr>\n",
              "      <th>2</th>\n",
              "      <td>28</td>\n",
              "      <td>12</td>\n",
              "      <td>0</td>\n",
              "      <td>40</td>\n",
              "      <td>1</td>\n",
              "      <td>0.0</td>\n",
              "      <td>0.0</td>\n",
              "      <td>0.0</td>\n",
              "      <td>0.0</td>\n",
              "      <td>0.0</td>\n",
              "      <td>...</td>\n",
              "      <td>0.0</td>\n",
              "      <td>0.0</td>\n",
              "      <td>1.0</td>\n",
              "      <td>1.0</td>\n",
              "      <td>0.0</td>\n",
              "      <td>0.0</td>\n",
              "      <td>0.0</td>\n",
              "      <td>0.0</td>\n",
              "      <td>0.0</td>\n",
              "      <td>0.0</td>\n",
              "    </tr>\n",
              "    <tr>\n",
              "      <th>7</th>\n",
              "      <td>63</td>\n",
              "      <td>15</td>\n",
              "      <td>0</td>\n",
              "      <td>32</td>\n",
              "      <td>1</td>\n",
              "      <td>0.0</td>\n",
              "      <td>0.0</td>\n",
              "      <td>0.0</td>\n",
              "      <td>0.0</td>\n",
              "      <td>0.0</td>\n",
              "      <td>...</td>\n",
              "      <td>0.0</td>\n",
              "      <td>0.0</td>\n",
              "      <td>1.0</td>\n",
              "      <td>0.0</td>\n",
              "      <td>0.0</td>\n",
              "      <td>0.0</td>\n",
              "      <td>1.0</td>\n",
              "      <td>0.0</td>\n",
              "      <td>0.0</td>\n",
              "      <td>0.0</td>\n",
              "    </tr>\n",
              "    <tr>\n",
              "      <th>11</th>\n",
              "      <td>36</td>\n",
              "      <td>13</td>\n",
              "      <td>0</td>\n",
              "      <td>40</td>\n",
              "      <td>0</td>\n",
              "      <td>0.0</td>\n",
              "      <td>0.0</td>\n",
              "      <td>0.0</td>\n",
              "      <td>0.0</td>\n",
              "      <td>0.0</td>\n",
              "      <td>...</td>\n",
              "      <td>0.0</td>\n",
              "      <td>0.0</td>\n",
              "      <td>1.0</td>\n",
              "      <td>0.0</td>\n",
              "      <td>0.0</td>\n",
              "      <td>0.0</td>\n",
              "      <td>0.0</td>\n",
              "      <td>0.0</td>\n",
              "      <td>0.0</td>\n",
              "      <td>0.0</td>\n",
              "    </tr>\n",
              "    <tr>\n",
              "      <th>15</th>\n",
              "      <td>43</td>\n",
              "      <td>14</td>\n",
              "      <td>0</td>\n",
              "      <td>50</td>\n",
              "      <td>1</td>\n",
              "      <td>0.0</td>\n",
              "      <td>1.0</td>\n",
              "      <td>0.0</td>\n",
              "      <td>0.0</td>\n",
              "      <td>0.0</td>\n",
              "      <td>...</td>\n",
              "      <td>0.0</td>\n",
              "      <td>0.0</td>\n",
              "      <td>1.0</td>\n",
              "      <td>0.0</td>\n",
              "      <td>1.0</td>\n",
              "      <td>0.0</td>\n",
              "      <td>0.0</td>\n",
              "      <td>0.0</td>\n",
              "      <td>0.0</td>\n",
              "      <td>0.0</td>\n",
              "    </tr>\n",
              "    <tr>\n",
              "      <th>19</th>\n",
              "      <td>40</td>\n",
              "      <td>16</td>\n",
              "      <td>0</td>\n",
              "      <td>45</td>\n",
              "      <td>1</td>\n",
              "      <td>0.0</td>\n",
              "      <td>0.0</td>\n",
              "      <td>0.0</td>\n",
              "      <td>0.0</td>\n",
              "      <td>0.0</td>\n",
              "      <td>...</td>\n",
              "      <td>0.0</td>\n",
              "      <td>0.0</td>\n",
              "      <td>0.0</td>\n",
              "      <td>0.0</td>\n",
              "      <td>1.0</td>\n",
              "      <td>0.0</td>\n",
              "      <td>0.0</td>\n",
              "      <td>0.0</td>\n",
              "      <td>0.0</td>\n",
              "      <td>0.0</td>\n",
              "    </tr>\n",
              "  </tbody>\n",
              "</table>\n",
              "<p>5 rows × 33 columns</p>\n",
              "</div>"
            ],
            "text/plain": [
              "    age  educational-num  gender  hours-per-week  income  \\\n",
              "2    28               12       0              40       1   \n",
              "7    63               15       0              32       1   \n",
              "11   36               13       0              40       0   \n",
              "15   43               14       0              50       1   \n",
              "19   40               16       0              45       1   \n",
              "\n",
              "    occupation_Craft-repair  occupation_Exec-managerial  \\\n",
              "2                       0.0                         0.0   \n",
              "7                       0.0                         0.0   \n",
              "11                      0.0                         0.0   \n",
              "15                      0.0                         1.0   \n",
              "19                      0.0                         0.0   \n",
              "\n",
              "    occupation_Farming-fishing  occupation_Handlers-cleaners  \\\n",
              "2                          0.0                           0.0   \n",
              "7                          0.0                           0.0   \n",
              "11                         0.0                           0.0   \n",
              "15                         0.0                           0.0   \n",
              "19                         0.0                           0.0   \n",
              "\n",
              "    occupation_Machine-op-inspct  ...  native-country_Philippines  \\\n",
              "2                            0.0  ...                         0.0   \n",
              "7                            0.0  ...                         0.0   \n",
              "11                           0.0  ...                         0.0   \n",
              "15                           0.0  ...                         0.0   \n",
              "19                           0.0  ...                         0.0   \n",
              "\n",
              "    native-country_Taiwan  native-country_United-States  workclass_Local-gov  \\\n",
              "2                     0.0                           1.0                  1.0   \n",
              "7                     0.0                           1.0                  0.0   \n",
              "11                    0.0                           1.0                  0.0   \n",
              "15                    0.0                           1.0                  0.0   \n",
              "19                    0.0                           0.0                  0.0   \n",
              "\n",
              "    workclass_Private  workclass_Self-emp-inc  workclass_Self-emp-not-inc  \\\n",
              "2                 0.0                     0.0                         0.0   \n",
              "7                 0.0                     0.0                         1.0   \n",
              "11                0.0                     0.0                         0.0   \n",
              "15                1.0                     0.0                         0.0   \n",
              "19                1.0                     0.0                         0.0   \n",
              "\n",
              "    workclass_State-gov  workclass_Without-pay  workclass_unknow  \n",
              "2                   0.0                    0.0               0.0  \n",
              "7                   0.0                    0.0               0.0  \n",
              "11                  0.0                    0.0               0.0  \n",
              "15                  0.0                    0.0               0.0  \n",
              "19                  0.0                    0.0               0.0  \n",
              "\n",
              "[5 rows x 33 columns]"
            ]
          },
          "execution_count": 61,
          "metadata": {},
          "output_type": "execute_result"
        }
      ],
      "source": [
        "df.head()"
      ]
    },
    {
      "cell_type": "code",
      "execution_count": 62,
      "metadata": {
        "colab": {
          "base_uri": "https://localhost:8080/"
        },
        "id": "v9hIEURENsKq",
        "outputId": "2716961d-d1f5-4812-b6b9-1dd0c142ce71"
      },
      "outputs": [
        {
          "data": {
            "text/plain": [
              "13697"
            ]
          },
          "execution_count": 62,
          "metadata": {},
          "output_type": "execute_result"
        }
      ],
      "source": [
        "len(df)"
      ]
    },
    {
      "cell_type": "code",
      "execution_count": 63,
      "metadata": {
        "colab": {
          "base_uri": "https://localhost:8080/"
        },
        "id": "Qr8DyqllN3CI",
        "outputId": "ad384805-60cd-4ea0-9ba6-93bbbf35686f"
      },
      "outputs": [
        {
          "data": {
            "text/plain": [
              "(13697, 33)"
            ]
          },
          "execution_count": 63,
          "metadata": {},
          "output_type": "execute_result"
        }
      ],
      "source": [
        "df.shape"
      ]
    },
    {
      "cell_type": "code",
      "execution_count": 64,
      "metadata": {
        "id": "SvwGOxOBN6YQ"
      },
      "outputs": [],
      "source": [
        "target = 'income'\n",
        "y = df[target]\n",
        "df.drop(columns=[target], inplace=True)"
      ]
    },
    {
      "cell_type": "code",
      "execution_count": 65,
      "metadata": {
        "id": "ca7VWUdjPEOG"
      },
      "outputs": [],
      "source": [
        "# prompt: apply the train test split ration 80 20\n",
        "\n",
        "from sklearn.model_selection import train_test_split\n",
        "\n",
        "X_train, X_test, y_train, y_test = train_test_split(df, y, test_size=0.2, random_state=42)"
      ]
    },
    {
      "cell_type": "code",
      "execution_count": 66,
      "metadata": {
        "colab": {
          "base_uri": "https://localhost:8080/"
        },
        "id": "6ynx6lmZPM8m",
        "outputId": "44244cae-eb25-4768-b085-8399cf307ddb"
      },
      "outputs": [
        {
          "name": "stderr",
          "output_type": "stream",
          "text": [
            "c:\\Users\\VIJAY\\.conda\\envs\\retail_st\\Lib\\site-packages\\sklearn\\linear_model\\_logistic.py:473: ConvergenceWarning: lbfgs failed to converge after 1000 iteration(s) (status=1):\n",
            "STOP: TOTAL NO. OF ITERATIONS REACHED LIMIT\n",
            "\n",
            "Increase the number of iterations to improve the convergence (max_iter=1000).\n",
            "You might also want to scale the data as shown in:\n",
            "    https://scikit-learn.org/stable/modules/preprocessing.html\n",
            "Please also refer to the documentation for alternative solver options:\n",
            "    https://scikit-learn.org/stable/modules/linear_model.html#logistic-regression\n",
            "  n_iter_i = _check_optimize_result(\n"
          ]
        },
        {
          "name": "stdout",
          "output_type": "stream",
          "text": [
            "Logistic Regression F1 Score: 0.6732348111658456\n",
            "SVM F1 Score: 0.6605783866057838\n",
            "Decision Tree F1 Score: 0.5990057995028998\n",
            "Random Forest F1 Score: 0.6399345335515548\n",
            "Gradient Boosting F1 Score: 0.6967895362663495\n",
            "\n",
            "Best model based on F1 score: Gradient Boosting\n"
          ]
        }
      ],
      "source": [
        "\n",
        "from sklearn.linear_model import LogisticRegression\n",
        "from sklearn.svm import SVC\n",
        "from sklearn.tree import DecisionTreeClassifier\n",
        "from sklearn.ensemble import RandomForestClassifier, GradientBoostingClassifier\n",
        "from sklearn.metrics import f1_score\n",
        "\n",
        "models = {\n",
        "    'Logistic Regression': LogisticRegression(max_iter=1000),\n",
        "    'SVM': SVC(),\n",
        "    'Decision Tree': DecisionTreeClassifier(),\n",
        "    'Random Forest': RandomForestClassifier(),\n",
        "    'Gradient Boosting': GradientBoostingClassifier()\n",
        "}\n",
        "\n",
        "f1_scores = {}\n",
        "\n",
        "for name, model in models.items():\n",
        "    model.fit(X_train, y_train)\n",
        "    y_pred = model.predict(X_test)\n",
        "    f1 = f1_score(y_test, y_pred)\n",
        "    f1_scores[name] = f1\n",
        "    print(f\"{name} F1 Score: {f1}\")\n",
        "\n",
        "best_model_name = max(f1_scores, key=f1_scores.get)\n",
        "print(f\"\\nBest model based on F1 score: {best_model_name}\")\n",
        "best_model = models[best_model_name]\n"
      ]
    },
    {
      "cell_type": "code",
      "execution_count": null,
      "metadata": {
        "colab": {
          "base_uri": "https://localhost:8080/"
        },
        "id": "keUOHabmTEpr",
        "outputId": "fbfeb1d9-9365-4ec2-9836-422a68058402"
      },
      "outputs": [
        {
          "name": "stdout",
          "output_type": "stream",
          "text": [
            "Best model 'Gradient Boosting' pickled successfully.\n"
          ]
        }
      ],
      "source": [
        "import pickle\n",
        "\n",
        "with open(f'{best_model_name.lower().replace(\" \", \"_\")}_model.pkl', 'wb') as f:\n",
        "    pickle.dump(best_model, f)\n",
        "\n",
        "print(f\"Best model '{best_model_name}' pickled successfully.\")"
      ]
    }
  ],
  "metadata": {
    "accelerator": "GPU",
    "colab": {
      "gpuType": "T4",
      "provenance": []
    },
    "kernelspec": {
      "display_name": "retail_st",
      "language": "python",
      "name": "python3"
    },
    "language_info": {
      "codemirror_mode": {
        "name": "ipython",
        "version": 3
      },
      "file_extension": ".py",
      "mimetype": "text/x-python",
      "name": "python",
      "nbconvert_exporter": "python",
      "pygments_lexer": "ipython3",
      "version": "3.12.0"
    }
  },
  "nbformat": 4,
  "nbformat_minor": 0
}
